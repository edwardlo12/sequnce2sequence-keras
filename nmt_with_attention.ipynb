{
 "cells": [
  {
   "cell_type": "markdown",
   "metadata": {
    "id": "s_qNSzzyaCbD"
   },
   "source": [
    "##### Copyright 2019 The TensorFlow Authors."
   ]
  },
  {
   "cell_type": "code",
   "execution_count": 1,
   "metadata": {
    "cellView": "form",
    "id": "jmjh290raIky"
   },
   "outputs": [],
   "source": [
    "#@title Licensed under the Apache License, Version 2.0 (the \"License\");\n",
    "# you may not use this file except in compliance with the License.\n",
    "# You may obtain a copy of the License at\n",
    "#\n",
    "# https://www.apache.org/licenses/LICENSE-2.0\n",
    "#\n",
    "# Unless required by applicable law or agreed to in writing, software\n",
    "# distributed under the License is distributed on an \"AS IS\" BASIS,\n",
    "# WITHOUT WARRANTIES OR CONDITIONS OF ANY KIND, either express or implied.\n",
    "# See the License for the specific language governing permissions and\n",
    "# limitations under the License."
   ]
  },
  {
   "cell_type": "markdown",
   "metadata": {
    "id": "J0Qjg6vuaHNt"
   },
   "source": [
    "# Neural machine translation with attention"
   ]
  },
  {
   "cell_type": "markdown",
   "metadata": {
    "id": "AOpGoE2T-YXS"
   },
   "source": [
    "<table class=\"tfo-notebook-buttons\" align=\"left\">\n",
    "  <td>\n",
    "    <a target=\"_blank\" href=\"https://www.tensorflow.org/tutorials/text/nmt_with_attention\">\n",
    "    <img src=\"https://www.tensorflow.org/images/tf_logo_32px.png\" />\n",
    "    View on TensorFlow.org</a>\n",
    "  </td>\n",
    "  <td>\n",
    "    <a target=\"_blank\" href=\"https://colab.research.google.com/github/tensorflow/docs/blob/master/site/en/tutorials/text/nmt_with_attention.ipynb\">\n",
    "    <img src=\"https://www.tensorflow.org/images/colab_logo_32px.png\" />\n",
    "    Run in Google Colab</a>\n",
    "  </td>\n",
    "  <td>\n",
    "    <a target=\"_blank\" href=\"https://github.com/tensorflow/docs/blob/master/site/en/tutorials/text/nmt_with_attention.ipynb\">\n",
    "    <img src=\"https://www.tensorflow.org/images/GitHub-Mark-32px.png\" />\n",
    "    View source on GitHub</a>\n",
    "  </td>\n",
    "  <td>\n",
    "    <a href=\"https://storage.googleapis.com/tensorflow_docs/docs/site/en/tutorials/text/nmt_with_attention.ipynb\"><img src=\"https://www.tensorflow.org/images/download_logo_32px.png\" />Download notebook</a>\n",
    "  </td>\n",
    "</table>"
   ]
  },
  {
   "cell_type": "markdown",
   "metadata": {
    "id": "CiwtNgENbx2g"
   },
   "source": [
    "This notebook trains a sequence to sequence (seq2seq) model for Spanish to English translation. This is an advanced example that assumes some knowledge of sequence to sequence models.\n",
    "\n",
    "After training the model in this notebook, you will be able to input a Spanish sentence, such as *\"¿todavia estan en casa?\"*, and return the English translation: *\"are you still at home?\"*\n",
    "\n",
    "The translation quality is reasonable for a toy example, but the generated attention plot is perhaps more interesting. This shows which parts of the input sentence has the model's attention while translating:\n",
    "\n",
    "<img src=\"https://tensorflow.org/images/spanish-english.png\" alt=\"spanish-english attention plot\">\n",
    "\n",
    "Note: This example takes approximately 10 minutes to run on a single P100 GPU."
   ]
  },
  {
   "cell_type": "code",
   "execution_count": 2,
   "metadata": {
    "id": "tnxXKDjq3jEL"
   },
   "outputs": [],
   "source": [
    "import tensorflow as tf\n",
    "\n",
    "import matplotlib.pyplot as plt\n",
    "import matplotlib.ticker as ticker\n",
    "from sklearn.model_selection import train_test_split\n",
    "\n",
    "import unicodedata\n",
    "import re\n",
    "import numpy as np\n",
    "import os\n",
    "import io\n",
    "import time\n",
    "import csv"
   ]
  },
  {
   "cell_type": "markdown",
   "metadata": {
    "id": "wfodePkj3jEa"
   },
   "source": [
    "## Download and prepare the dataset\n",
    "\n",
    "We'll use a language dataset provided by http://www.manythings.org/anki/. This dataset contains language translation pairs in the format:\n",
    "\n",
    "```\n",
    "May I borrow this book?\t¿Puedo tomar prestado este libro?\n",
    "```\n",
    "\n",
    "There are a variety of languages available, but we'll use the English-Spanish dataset. For convenience, we've hosted a copy of this dataset on Google Cloud, but you can also download your own copy. After downloading the dataset, here are the steps we'll take to prepare the data:\n",
    "\n",
    "1. Add a *start* and *end* token to each sentence.\n",
    "2. Clean the sentences by removing special characters.\n",
    "3. Create a word index and reverse word index (dictionaries mapping from word → id and id → word).\n",
    "4. Pad each sentence to a maximum length."
   ]
  },
  {
   "cell_type": "code",
   "execution_count": 3,
   "metadata": {
    "id": "kRVATYOgJs1b"
   },
   "outputs": [],
   "source": [
    "# # Download the file\n",
    "# path_to_zip = tf.keras.utils.get_file(\n",
    "#     'spa-eng.zip', origin='http://storage.googleapis.com/download.tensorflow.org/data/spa-eng.zip',\n",
    "#     extract=True)\n",
    "\n",
    "# path_to_file = os.path.dirname(path_to_zip)+\"/spa-eng/spa.txt\""
   ]
  },
  {
   "cell_type": "code",
   "execution_count": 4,
   "metadata": {
    "id": "rd0jw-eC3jEh"
   },
   "outputs": [],
   "source": [
    "# Converts the unicode file to ascii\n",
    "def unicode_to_ascii(s):\n",
    "  return ''.join(c for c in unicodedata.normalize('NFD', s)\n",
    "      if unicodedata.category(c) != 'Mn')\n",
    "\n",
    "\n",
    "def preprocess_sentence(w):\n",
    "  w = unicode_to_ascii(w.lower().strip())\n",
    "\n",
    "# creating a space between a word and the punctuation following it\n",
    "  # eg: \"he is a boy.\" => \"he is a boy .\"\n",
    "  # Reference:- https://stackoverflow.com/questions/3645931/python-padding-punctuation-with-white-spaces-keeping-punctuation\n",
    "  w = re.sub(r\"([?.!,¿])\", r\" \\1 \", w)\n",
    "  w = re.sub(r'[\" \"]+', \" \", w)\n",
    "\n",
    "  # replacing everything with space except (a-z, A-Z, \".\", \"?\", \"!\", \",\")\n",
    "#   w = re.sub(r\"[^a-zA-Z?.!,¿]+\", \" \", w)\n",
    "  tmp=w\n",
    "  stringTmp=''\n",
    "  for char in w:\n",
    "    stringTmp+=' ' + char\n",
    "  w=stringTmp[1::]\n",
    "  w=w.replace('   ',' ')\n",
    "  w = w.strip()\n",
    "\n",
    "  # adding a start and an end token to the sentence\n",
    "  # so that the model know when to start and stop predicting.\n",
    "  w = '<start> ' + w + ' <end>'\n",
    "  return w"
   ]
  },
  {
   "cell_type": "code",
   "execution_count": 5,
   "metadata": {
    "id": "opI2GzOt479E"
   },
   "outputs": [
    {
     "name": "stdout",
     "output_type": "stream",
     "text": [
      "<start> 為 什 麼 聖 結 石 會 被 酸 而 這 群 人 不 會 ？ <end>\n",
      "<start> 質 感 劇 本 成 員 都 差 很 多 好 嗎 不 要 拿 腎 結 石 來 污 辱 這 群 人 <end>\n"
     ]
    }
   ],
   "source": [
    "Q_sentence = u\"為什麼 聖結石 會被酸而 這群人 不會？\"#u\"May I borrow this book?\"\n",
    "A_sentence = u\"質感 劇本 成員 都差很多好嗎 不要拿腎結石來污辱這群人\"#u\"¿Puedo tomar prestado este libro?\"\n",
    "print(preprocess_sentence(Q_sentence))\n",
    "print(preprocess_sentence(A_sentence))#.encode('utf-8')"
   ]
  },
  {
   "cell_type": "code",
   "execution_count": 6,
   "metadata": {
    "id": "OHn4Dct23jEm"
   },
   "outputs": [],
   "source": [
    "# 1. Remove the accents\n",
    "# 2. Clean the sentences\n",
    "# 3. Return word pairs in the format: [ENGLISH, SPANISH]\n",
    "def create_dataset(path, num_examples): #, num_examples\n",
    "#     lines = io.open(path, encoding='UTF-8').read().strip().split('\\n')\n",
    "    \n",
    "    word_pairs = []#[[preprocess_sentence(w) for w in l.split('\\t')]  for l in lines[:num_examples]]\n",
    "    with open(path) as f:\n",
    "        rows = csv.reader(f)\n",
    "        count = 0;\n",
    "        for row in rows:\n",
    "            if(num_examples != None):\n",
    "                if(count >= num_examples):\n",
    "                    break\n",
    "            word_pairs.append([preprocess_sentence(row[0]), preprocess_sentence(row[1])])\n",
    "            count+=1\n",
    "  \n",
    "\n",
    "    return zip(*word_pairs)"
   ]
  },
  {
   "cell_type": "code",
   "execution_count": 7,
   "metadata": {
    "id": "cTbSbBz55QtF"
   },
   "outputs": [
    {
     "name": "stdout",
     "output_type": "stream",
     "text": [
      "<start> 有 村 架 純 在 台 灣 被 嫌 日 本 人 卻 很 愛 她 ? <end>\n",
      "<start> 漂 亮 ， 台 灣 人 是 整 形 臉 看 太 多 吧 <end>\n"
     ]
    }
   ],
   "source": [
    "path_to_file = '/home/edward/test/sequence2sequence/Data/Gossiping-QA-Dataset-2_0.csv'\n",
    "Q, A = create_dataset(path_to_file, None)\n",
    "print(Q[-1])\n",
    "print(A[-1])"
   ]
  },
  {
   "cell_type": "code",
   "execution_count": 8,
   "metadata": {
    "id": "bIOn8RCNDJXG"
   },
   "outputs": [],
   "source": [
    "def tokenize(lang):\n",
    "  lang_tokenizer = tf.keras.preprocessing.text.Tokenizer(\n",
    "      filters='')\n",
    "  lang_tokenizer.fit_on_texts(lang)\n",
    "\n",
    "  tensor = lang_tokenizer.texts_to_sequences(lang)\n",
    "\n",
    "  tensor = tf.keras.preprocessing.sequence.pad_sequences(tensor,\n",
    "                                                         padding='post')\n",
    "\n",
    "  return tensor, lang_tokenizer"
   ]
  },
  {
   "cell_type": "code",
   "execution_count": 9,
   "metadata": {
    "id": "eAY9k49G3jE_"
   },
   "outputs": [],
   "source": [
    "def load_dataset(path, num_examples=None):\n",
    "  # creating cleaned input, output pairs\n",
    "  inp_lang, targ_lang = create_dataset(path, num_examples)\n",
    "\n",
    "  input_tensor, inp_lang_tokenizer = tokenize(inp_lang)\n",
    "  target_tensor, targ_lang_tokenizer = tokenize(targ_lang)\n",
    "\n",
    "  return input_tensor, target_tensor, inp_lang_tokenizer, targ_lang_tokenizer"
   ]
  },
  {
   "cell_type": "markdown",
   "metadata": {
    "id": "GOi42V79Ydlr"
   },
   "source": [
    "### Limit the size of the dataset to experiment faster (optional)\n",
    "\n",
    "Training on the complete dataset of >100,000 sentences will take a long time. To train faster, we can limit the size of the dataset to 30,000 sentences (of course, translation quality degrades with less data):"
   ]
  },
  {
   "cell_type": "code",
   "execution_count": 10,
   "metadata": {
    "id": "cnxC7q-j3jFD"
   },
   "outputs": [],
   "source": [
    "# Try experimenting with the size of that dataset\n",
    "num_examples = 30000\n",
    "input_tensor, target_tensor, inp_lang, targ_lang = load_dataset(path_to_file, num_examples)\n",
    "\n",
    "# Calculate max_length of the target tensors\n",
    "max_length_targ, max_length_inp = target_tensor.shape[1], input_tensor.shape[1]"
   ]
  },
  {
   "cell_type": "code",
   "execution_count": 11,
   "metadata": {
    "id": "4QILQkOs3jFG"
   },
   "outputs": [
    {
     "name": "stdout",
     "output_type": "stream",
     "text": [
      "24000 24000 6000 6000\n"
     ]
    }
   ],
   "source": [
    "# Creating training and validation sets using an 80-20 split\n",
    "input_tensor_train, input_tensor_val, target_tensor_train, target_tensor_val = train_test_split(input_tensor, target_tensor, test_size=0.2)\n",
    "\n",
    "# Show length\n",
    "print(len(input_tensor_train), len(target_tensor_train), len(input_tensor_val), len(target_tensor_val))"
   ]
  },
  {
   "cell_type": "code",
   "execution_count": 12,
   "metadata": {
    "id": "lJPmLZGMeD5q"
   },
   "outputs": [],
   "source": [
    "def convert(lang, tensor):\n",
    "#     print(tensor)  \n",
    "    for t in tensor:\n",
    "        if t!=0:\n",
    "          print (\"%d ----> %s\" % (t, lang.index_word[t]))"
   ]
  },
  {
   "cell_type": "code",
   "execution_count": 13,
   "metadata": {
    "id": "VXukARTDd7MT"
   },
   "outputs": [
    {
     "name": "stdout",
     "output_type": "stream",
     "text": [
      "Input Language; index to word mapping\n",
      "1 ----> <start>\n",
      "308 ----> 板\n",
      "42 ----> 上\n",
      "4 ----> 有\n",
      "32 ----> 多\n",
      "114 ----> 少\n",
      "14 ----> 人\n",
      "47 ----> 被\n",
      "206 ----> 甲\n",
      "206 ----> 甲\n",
      "1242 ----> 騷\n",
      "1336 ----> 擾\n",
      "76 ----> 過\n",
      "3 ----> 的\n",
      "5 ----> ？\n",
      "2 ----> <end>\n",
      "\n",
      "Target Language; index to word mapping\n",
      "1 ----> <start>\n",
      "9 ----> 有\n",
      "8 ----> 一\n",
      "141 ----> 堆\n",
      "89 ----> 肥\n",
      "87 ----> 宅\n",
      "272 ----> 連\n",
      "74 ----> 女\n",
      "64 ----> 生\n",
      "28 ----> 看\n",
      "24 ----> 到\n",
      "17 ----> 都\n",
      "16 ----> 會\n",
      "1315 ----> 逃\n",
      "63 ----> 只\n",
      "67 ----> 能\n",
      "985 ----> 幻\n",
      "52 ----> 想\n",
      "314 ----> 甲\n",
      "314 ----> 甲\n",
      "16 ----> 會\n",
      "95 ----> 愛\n",
      "48 ----> 他\n",
      "185 ----> 們\n",
      "2 ----> <end>\n"
     ]
    }
   ],
   "source": [
    "print (\"Input Language; index to word mapping\")\n",
    "convert(inp_lang, input_tensor_train[0])\n",
    "print ()\n",
    "print (\"Target Language; index to word mapping\")\n",
    "convert(targ_lang, target_tensor_train[0])"
   ]
  },
  {
   "cell_type": "markdown",
   "metadata": {
    "id": "rgCLkfv5uO3d"
   },
   "source": [
    "### Create a tf.data dataset"
   ]
  },
  {
   "cell_type": "code",
   "execution_count": 14,
   "metadata": {
    "id": "TqHsArVZ3jFS"
   },
   "outputs": [],
   "source": [
    "BUFFER_SIZE = len(input_tensor_train)\n",
    "BATCH_SIZE = 64\n",
    "steps_per_epoch = len(input_tensor_train)//BATCH_SIZE\n",
    "embedding_dim = 256\n",
    "units = 1024\n",
    "vocab_inp_size = 6790#len(inp_lang.word_index)+1\n",
    "vocab_tar_size = 6770#len(targ_lang.word_index)+1\n",
    "\n",
    "dataset = tf.data.Dataset.from_tensor_slices((input_tensor_train, target_tensor_train)).shuffle(BUFFER_SIZE)\n",
    "dataset = dataset.batch(BATCH_SIZE, drop_remainder=True)\n"
   ]
  },
  {
   "cell_type": "code",
   "execution_count": 15,
   "metadata": {
    "id": "qc6-NK1GtWQt"
   },
   "outputs": [
    {
     "data": {
      "text/plain": [
       "(TensorShape([64, 40]), TensorShape([64, 29]))"
      ]
     },
     "execution_count": 15,
     "metadata": {},
     "output_type": "execute_result"
    }
   ],
   "source": [
    "example_input_batch, example_target_batch = next(iter(dataset))\n",
    "# print(example_input_batch[0], example_target_batch[0])\n",
    "# convert(inp_lang, example_input_batch[0].numpy())\n",
    "# convert(targ_lang, example_target_batch[0].numpy())\n",
    "example_input_batch.shape, example_target_batch.shape"
   ]
  },
  {
   "cell_type": "markdown",
   "metadata": {
    "id": "TNfHIF71ulLu"
   },
   "source": [
    "## Write the encoder and decoder model\n",
    "\n",
    "Implement an encoder-decoder model with attention which you can read about in the TensorFlow [Neural Machine Translation (seq2seq) tutorial](https://github.com/tensorflow/nmt). This example uses a more recent set of APIs. This notebook implements the [attention equations](https://github.com/tensorflow/nmt#background-on-the-attention-mechanism) from the seq2seq tutorial. The following diagram shows that each input words is assigned a weight by the attention mechanism which is then used by the decoder to predict the next word in the sentence. The below picture and formulas are an example of attention mechanism from [Luong's paper](https://arxiv.org/abs/1508.04025v5). \n",
    "\n",
    "<img src=\"https://www.tensorflow.org/images/seq2seq/attention_mechanism.jpg\" width=\"500\" alt=\"attention mechanism\">\n",
    "\n",
    "The input is put through an encoder model which gives us the encoder output of shape *(batch_size, max_length, hidden_size)* and the encoder hidden state of shape *(batch_size, hidden_size)*.\n",
    "\n",
    "Here are the equations that are implemented:\n",
    "\n",
    "<img src=\"https://www.tensorflow.org/images/seq2seq/attention_equation_0.jpg\" alt=\"attention equation 0\" width=\"800\">\n",
    "<img src=\"https://www.tensorflow.org/images/seq2seq/attention_equation_1.jpg\" alt=\"attention equation 1\" width=\"800\">\n",
    "\n",
    "This tutorial uses [Bahdanau attention](https://arxiv.org/pdf/1409.0473.pdf) for the encoder. Let's decide on notation before writing the simplified form:\n",
    "\n",
    "* FC = Fully connected (dense) layer\n",
    "* EO = Encoder output\n",
    "* H = hidden state\n",
    "* X = input to the decoder\n",
    "\n",
    "And the pseudo-code:\n",
    "\n",
    "* `score = FC(tanh(FC(EO) + FC(H)))`\n",
    "* `attention weights = softmax(score, axis = 1)`. Softmax by default is applied on the last axis but here we want to apply it on the *1st axis*, since the shape of score is *(batch_size, max_length, hidden_size)*. `Max_length` is the length of our input. Since we are trying to assign a weight to each input, softmax should be applied on that axis.\n",
    "* `context vector = sum(attention weights * EO, axis = 1)`. Same reason as above for choosing axis as 1.\n",
    "* `embedding output` = The input to the decoder X is passed through an embedding layer.\n",
    "* `merged vector = concat(embedding output, context vector)`\n",
    "* This merged vector is then given to the GRU\n",
    "\n",
    "The shapes of all the vectors at each step have been specified in the comments in the code:"
   ]
  },
  {
   "cell_type": "code",
   "execution_count": 16,
   "metadata": {
    "id": "nZ2rI24i3jFg"
   },
   "outputs": [],
   "source": [
    "class Encoder(tf.keras.Model):\n",
    "  def __init__(self, vocab_size, embedding_dim, enc_units, batch_sz):\n",
    "    super(Encoder, self).__init__()\n",
    "    self.batch_sz = batch_sz\n",
    "    self.enc_units = enc_units\n",
    "    self.embedding = tf.keras.layers.Embedding(vocab_size, embedding_dim)\n",
    "    self.gru = tf.keras.layers.GRU(self.enc_units,\n",
    "                                   return_sequences=True,\n",
    "                                   return_state=True,\n",
    "                                   recurrent_initializer='glorot_uniform')\n",
    "\n",
    "  def call(self, x, hidden):\n",
    "#     print('1',x[0])\n",
    "#     convert(inp_lang, x[0].numpy())\n",
    "    x = self.embedding(x)\n",
    "    \n",
    "    output, state = self.gru(x, initial_state = hidden)\n",
    "    return output, state\n",
    "\n",
    "  def initialize_hidden_state(self):\n",
    "    return tf.zeros((self.batch_sz, self.enc_units))"
   ]
  },
  {
   "cell_type": "code",
   "execution_count": 17,
   "metadata": {
    "id": "60gSVh05Jl6l"
   },
   "outputs": [
    {
     "name": "stdout",
     "output_type": "stream",
     "text": [
      "Encoder output shape: (batch size, sequence length, units) (64, 40, 1024)\n",
      "Encoder Hidden state shape: (batch size, units) (64, 1024)\n"
     ]
    }
   ],
   "source": [
    "encoder = Encoder(vocab_inp_size, embedding_dim, units, BATCH_SIZE)\n",
    "\n",
    "# sample input\n",
    "sample_hidden = encoder.initialize_hidden_state()\n",
    "sample_output, sample_hidden = encoder(example_input_batch, sample_hidden)\n",
    "print ('Encoder output shape: (batch size, sequence length, units) {}'.format(sample_output.shape))\n",
    "print ('Encoder Hidden state shape: (batch size, units) {}'.format(sample_hidden.shape))"
   ]
  },
  {
   "cell_type": "code",
   "execution_count": 18,
   "metadata": {
    "id": "umohpBN2OM94"
   },
   "outputs": [],
   "source": [
    "class BahdanauAttention(tf.keras.layers.Layer):\n",
    "  def __init__(self, units):\n",
    "    super(BahdanauAttention, self).__init__()\n",
    "    self.W1 = tf.keras.layers.Dense(units)\n",
    "    self.W2 = tf.keras.layers.Dense(units)\n",
    "    self.V = tf.keras.layers.Dense(1)\n",
    "\n",
    "  def call(self, query, values):\n",
    "    # query hidden state shape == (batch_size, hidden size)\n",
    "    # query_with_time_axis shape == (batch_size, 1, hidden size)\n",
    "    # values shape == (batch_size, max_len, hidden size)\n",
    "    # we are doing this to broadcast addition along the time axis to calculate the score\n",
    "    query_with_time_axis = tf.expand_dims(query, 1)\n",
    "\n",
    "    # score shape == (batch_size, max_length, 1)\n",
    "    # we get 1 at the last axis because we are applying score to self.V\n",
    "    # the shape of the tensor before applying self.V is (batch_size, max_length, units)\n",
    "    score = self.V(tf.nn.tanh(\n",
    "        self.W1(query_with_time_axis) + self.W2(values)))\n",
    "\n",
    "    # attention_weights shape == (batch_size, max_length, 1)\n",
    "    attention_weights = tf.nn.softmax(score, axis=1)\n",
    "\n",
    "    # context_vector shape after sum == (batch_size, hidden_size)\n",
    "    context_vector = attention_weights * values\n",
    "    context_vector = tf.reduce_sum(context_vector, axis=1)\n",
    "\n",
    "    return context_vector, attention_weights"
   ]
  },
  {
   "cell_type": "code",
   "execution_count": 19,
   "metadata": {
    "id": "k534zTHiDjQU"
   },
   "outputs": [
    {
     "name": "stdout",
     "output_type": "stream",
     "text": [
      "Attention result shape: (batch size, units) (64, 1024)\n",
      "Attention weights shape: (batch_size, sequence_length, 1) (64, 40, 1)\n"
     ]
    }
   ],
   "source": [
    "attention_layer = BahdanauAttention(10)\n",
    "attention_result, attention_weights = attention_layer(sample_hidden, sample_output)\n",
    "\n",
    "print(\"Attention result shape: (batch size, units) {}\".format(attention_result.shape))\n",
    "print(\"Attention weights shape: (batch_size, sequence_length, 1) {}\".format(attention_weights.shape))"
   ]
  },
  {
   "cell_type": "code",
   "execution_count": 20,
   "metadata": {
    "id": "yJ_B3mhW3jFk"
   },
   "outputs": [],
   "source": [
    "class Decoder(tf.keras.Model):\n",
    "  def __init__(self, vocab_size, embedding_dim, dec_units, batch_sz):\n",
    "    super(Decoder, self).__init__()\n",
    "    self.batch_sz = batch_sz\n",
    "    self.dec_units = dec_units\n",
    "    self.embedding = tf.keras.layers.Embedding(vocab_size, embedding_dim)\n",
    "    self.gru = tf.keras.layers.GRU(self.dec_units,\n",
    "                                   return_sequences=True,\n",
    "                                   return_state=True,\n",
    "                                   recurrent_initializer='glorot_uniform')\n",
    "    self.fc = tf.keras.layers.Dense(vocab_size)\n",
    "\n",
    "    # used for attention\n",
    "    self.attention = BahdanauAttention(self.dec_units)\n",
    "\n",
    "  def call(self, x, hidden, enc_output):\n",
    "    # enc_output shape == (batch_size, max_length, hidden_size)\n",
    "    context_vector, attention_weights = self.attention(hidden, enc_output)\n",
    "\n",
    "    # x shape after passing through embedding == (batch_size, 1, embedding_dim)\n",
    "    x = self.embedding(x)\n",
    "\n",
    "    # x shape after concatenation == (batch_size, 1, embedding_dim + hidden_size)\n",
    "    x = tf.concat([tf.expand_dims(context_vector, 1), x], axis=-1)\n",
    "\n",
    "    # passing the concatenated vector to the GRU\n",
    "    output, state = self.gru(x)\n",
    "\n",
    "    # output shape == (batch_size * 1, hidden_size)\n",
    "    output = tf.reshape(output, (-1, output.shape[2]))\n",
    "\n",
    "    # output shape == (batch_size, vocab)\n",
    "    x = self.fc(output)\n",
    "\n",
    "    return x, state, attention_weights"
   ]
  },
  {
   "cell_type": "code",
   "execution_count": 21,
   "metadata": {
    "id": "P5UY8wko3jFp"
   },
   "outputs": [
    {
     "name": "stdout",
     "output_type": "stream",
     "text": [
      "Decoder output shape: (batch_size, vocab size) (64, 6770)\n"
     ]
    }
   ],
   "source": [
    "decoder = Decoder(vocab_tar_size, embedding_dim, units, BATCH_SIZE)\n",
    "\n",
    "sample_decoder_output, _, _ = decoder(tf.random.uniform((BATCH_SIZE, 1)),\n",
    "                                      sample_hidden, sample_output)\n",
    "\n",
    "print ('Decoder output shape: (batch_size, vocab size) {}'.format(sample_decoder_output.shape))"
   ]
  },
  {
   "cell_type": "markdown",
   "metadata": {
    "id": "_ch_71VbIRfK"
   },
   "source": [
    "## Define the optimizer and the loss function"
   ]
  },
  {
   "cell_type": "code",
   "execution_count": 22,
   "metadata": {
    "id": "WmTHr5iV3jFr"
   },
   "outputs": [],
   "source": [
    "optimizer = tf.keras.optimizers.Adam()\n",
    "loss_object = tf.keras.losses.SparseCategoricalCrossentropy(\n",
    "    from_logits=True, reduction='none')\n",
    "\n",
    "def loss_function(real, pred):\n",
    "  mask = tf.math.logical_not(tf.math.equal(real, 0))\n",
    "  loss_ = loss_object(real, pred)\n",
    "\n",
    "  mask = tf.cast(mask, dtype=loss_.dtype)\n",
    "  loss_ *= mask\n",
    "\n",
    "  return tf.reduce_mean(loss_)"
   ]
  },
  {
   "cell_type": "markdown",
   "metadata": {
    "id": "DMVWzzsfNl4e"
   },
   "source": [
    "## Checkpoints (Object-based saving)"
   ]
  },
  {
   "cell_type": "code",
   "execution_count": 23,
   "metadata": {
    "id": "Zj8bXQTgNwrF"
   },
   "outputs": [],
   "source": [
    "checkpoint_dir = './training_checkpoints_NewSmallBatch'\n",
    "checkpoint_prefix = os.path.join(checkpoint_dir, \"ckpt\")\n",
    "checkpoint = tf.train.Checkpoint(optimizer=optimizer,\n",
    "                                 encoder=encoder,\n",
    "                                 decoder=decoder)\n",
    "#checkpoint.restore(tf.train.latest_checkpoint(checkpoint_dir))"
   ]
  },
  {
   "cell_type": "markdown",
   "metadata": {
    "id": "hpObfY22IddU"
   },
   "source": [
    "## Training\n",
    "\n",
    "1. Pass the *input* through the *encoder* which return *encoder output* and the *encoder hidden state*.\n",
    "2. The encoder output, encoder hidden state and the decoder input (which is the *start token*) is passed to the decoder.\n",
    "3. The decoder returns the *predictions* and the *decoder hidden state*.\n",
    "4. The decoder hidden state is then passed back into the model and the predictions are used to calculate the loss.\n",
    "5. Use *teacher forcing* to decide the next input to the decoder.\n",
    "6. *Teacher forcing* is the technique where the *target word* is passed as the *next input* to the decoder.\n",
    "7. The final step is to calculate the gradients and apply it to the optimizer and backpropagate."
   ]
  },
  {
   "cell_type": "code",
   "execution_count": 24,
   "metadata": {
    "id": "sC9ArXSsVfqn"
   },
   "outputs": [],
   "source": [
    "@tf.function\n",
    "def train_step(inp, targ, enc_hidden):\n",
    "  loss = 0\n",
    "\n",
    "  with tf.GradientTape() as tape:\n",
    "    enc_output, enc_hidden = encoder(inp, enc_hidden)\n",
    "\n",
    "    dec_hidden = enc_hidden\n",
    "\n",
    "    dec_input = tf.expand_dims([targ_lang.word_index['<start>']] * BATCH_SIZE, 1)\n",
    "\n",
    "    # Teacher forcing - feeding the target as the next input\n",
    "    for t in range(1, targ.shape[1]):\n",
    "      # passing enc_output to the decoder\n",
    "      predictions, dec_hidden, _ = decoder(dec_input, dec_hidden, enc_output)\n",
    "\n",
    "      loss += loss_function(targ[:, t], predictions)\n",
    "\n",
    "      # using teacher forcing\n",
    "      dec_input = tf.expand_dims(targ[:, t], 1)\n",
    "\n",
    "  batch_loss = (loss / int(targ.shape[1]))\n",
    "\n",
    "  variables = encoder.trainable_variables + decoder.trainable_variables\n",
    "\n",
    "  gradients = tape.gradient(loss, variables)\n",
    "\n",
    "  optimizer.apply_gradients(zip(gradients, variables))\n",
    "\n",
    "  return batch_loss"
   ]
  },
  {
   "cell_type": "code",
   "execution_count": 25,
   "metadata": {
    "id": "ddefjBMa3jF0",
    "scrolled": true
   },
   "outputs": [
    {
     "name": "stdout",
     "output_type": "stream",
     "text": [
      "Epoch 1 Batch 0 Loss 4.8805\n",
      "Epoch 1 Batch 100 Loss 3.3477\n",
      "Epoch 1 Batch 200 Loss 2.9932\n",
      "Epoch 1 Batch 300 Loss 2.7756\n",
      "Epoch 1 Loss 3.1159\n",
      "Time taken for 1 epoch 95.8584406375885 sec\n",
      "\n",
      "Epoch 2 Batch 0 Loss 2.6795\n",
      "Epoch 2 Batch 100 Loss 2.6246\n",
      "Epoch 2 Batch 200 Loss 2.8432\n",
      "Epoch 2 Batch 300 Loss 2.6084\n",
      "Epoch 2 Loss 2.7271\n",
      "Time taken for 1 epoch 77.47500491142273 sec\n",
      "\n",
      "Epoch 3 Batch 0 Loss 2.6231\n",
      "Epoch 3 Batch 100 Loss 2.6336\n",
      "Epoch 3 Batch 200 Loss 2.2682\n",
      "Epoch 3 Batch 300 Loss 2.7588\n",
      "Epoch 3 Loss 2.5898\n",
      "Time taken for 1 epoch 77.2472038269043 sec\n",
      "\n",
      "Epoch 4 Batch 0 Loss 2.5163\n",
      "Epoch 4 Batch 100 Loss 2.4055\n",
      "Epoch 4 Batch 200 Loss 2.6582\n",
      "Epoch 4 Batch 300 Loss 2.6847\n",
      "Epoch 4 Loss 2.5060\n",
      "Time taken for 1 epoch 77.67257618904114 sec\n",
      "\n",
      "Epoch 5 Batch 0 Loss 2.4839\n",
      "Epoch 5 Batch 100 Loss 2.4450\n",
      "Epoch 5 Batch 200 Loss 2.4319\n",
      "Epoch 5 Batch 300 Loss 2.6078\n",
      "Epoch 5 Loss 2.4435\n",
      "Time taken for 1 epoch 77.33968567848206 sec\n",
      "\n",
      "Epoch 6 Batch 0 Loss 2.0867\n",
      "Epoch 6 Batch 100 Loss 2.1882\n",
      "Epoch 6 Batch 200 Loss 2.3597\n",
      "Epoch 6 Batch 300 Loss 2.4323\n",
      "Epoch 6 Loss 2.3888\n",
      "Time taken for 1 epoch 77.70838642120361 sec\n",
      "\n",
      "Epoch 7 Batch 0 Loss 2.4195\n",
      "Epoch 7 Batch 100 Loss 2.2995\n",
      "Epoch 7 Batch 200 Loss 2.2356\n",
      "Epoch 7 Batch 300 Loss 2.2059\n",
      "Epoch 7 Loss 2.3366\n",
      "Time taken for 1 epoch 77.23259735107422 sec\n",
      "\n",
      "Epoch 8 Batch 0 Loss 2.2249\n",
      "Epoch 8 Batch 100 Loss 2.2898\n",
      "Epoch 8 Batch 200 Loss 2.2582\n",
      "Epoch 8 Batch 300 Loss 2.1125\n",
      "Epoch 8 Loss 2.2836\n",
      "Time taken for 1 epoch 77.4683747291565 sec\n",
      "\n",
      "Epoch 9 Batch 0 Loss 2.2288\n",
      "Epoch 9 Batch 100 Loss 2.2063\n",
      "Epoch 9 Batch 200 Loss 2.2002\n",
      "Epoch 9 Batch 300 Loss 2.1086\n",
      "Epoch 9 Loss 2.2268\n",
      "Time taken for 1 epoch 77.13603210449219 sec\n",
      "\n",
      "Epoch 10 Batch 0 Loss 1.8646\n",
      "Epoch 10 Batch 100 Loss 2.2177\n",
      "Epoch 10 Batch 200 Loss 2.1721\n",
      "Epoch 10 Batch 300 Loss 2.1333\n",
      "Epoch 10 Loss 2.1649\n",
      "Time taken for 1 epoch 77.58797073364258 sec\n",
      "\n",
      "Epoch 11 Batch 0 Loss 2.0799\n",
      "Epoch 11 Batch 100 Loss 2.1663\n",
      "Epoch 11 Batch 200 Loss 2.0448\n",
      "Epoch 11 Batch 300 Loss 2.1293\n",
      "Epoch 11 Loss 2.0945\n",
      "Time taken for 1 epoch 77.20791149139404 sec\n",
      "\n",
      "Epoch 12 Batch 0 Loss 2.0124\n",
      "Epoch 12 Batch 100 Loss 1.9888\n",
      "Epoch 12 Batch 200 Loss 1.8868\n",
      "Epoch 12 Batch 300 Loss 1.9710\n",
      "Epoch 12 Loss 2.0137\n",
      "Time taken for 1 epoch 77.67305970191956 sec\n",
      "\n",
      "Epoch 13 Batch 0 Loss 1.7976\n",
      "Epoch 13 Batch 100 Loss 1.9257\n",
      "Epoch 13 Batch 200 Loss 1.9457\n",
      "Epoch 13 Batch 300 Loss 1.8647\n",
      "Epoch 13 Loss 1.9186\n",
      "Time taken for 1 epoch 77.39774918556213 sec\n",
      "\n",
      "Epoch 14 Batch 0 Loss 1.7017\n",
      "Epoch 14 Batch 100 Loss 1.7159\n",
      "Epoch 14 Batch 200 Loss 1.8395\n",
      "Epoch 14 Batch 300 Loss 1.8801\n",
      "Epoch 14 Loss 1.8070\n",
      "Time taken for 1 epoch 77.65418028831482 sec\n",
      "\n",
      "Epoch 15 Batch 0 Loss 1.5018\n",
      "Epoch 15 Batch 100 Loss 1.5900\n",
      "Epoch 15 Batch 200 Loss 1.5849\n",
      "Epoch 15 Batch 300 Loss 1.7953\n",
      "Epoch 15 Loss 1.6782\n",
      "Time taken for 1 epoch 77.38430285453796 sec\n",
      "\n",
      "Epoch 16 Batch 0 Loss 1.4056\n",
      "Epoch 16 Batch 100 Loss 1.6005\n",
      "Epoch 16 Batch 200 Loss 1.7626\n",
      "Epoch 16 Batch 300 Loss 1.6002\n",
      "Epoch 16 Loss 1.5326\n",
      "Time taken for 1 epoch 77.71589660644531 sec\n",
      "\n",
      "Epoch 17 Batch 0 Loss 1.3591\n",
      "Epoch 17 Batch 100 Loss 1.3777\n",
      "Epoch 17 Batch 200 Loss 1.3098\n",
      "Epoch 17 Batch 300 Loss 1.3829\n",
      "Epoch 17 Loss 1.3723\n",
      "Time taken for 1 epoch 77.31303524971008 sec\n",
      "\n",
      "Epoch 18 Batch 0 Loss 1.0231\n",
      "Epoch 18 Batch 100 Loss 1.2213\n",
      "Epoch 18 Batch 200 Loss 1.1388\n",
      "Epoch 18 Batch 300 Loss 1.1365\n",
      "Epoch 18 Loss 1.2057\n",
      "Time taken for 1 epoch 77.65148162841797 sec\n",
      "\n",
      "Epoch 19 Batch 0 Loss 0.8456\n",
      "Epoch 19 Batch 100 Loss 1.0045\n",
      "Epoch 19 Batch 200 Loss 0.9965\n",
      "Epoch 19 Batch 300 Loss 1.1556\n",
      "Epoch 19 Loss 1.0380\n",
      "Time taken for 1 epoch 77.38139152526855 sec\n",
      "\n",
      "Epoch 20 Batch 0 Loss 0.7954\n",
      "Epoch 20 Batch 100 Loss 0.7248\n",
      "Epoch 20 Batch 200 Loss 0.9897\n",
      "Epoch 20 Batch 300 Loss 0.8536\n",
      "Epoch 20 Loss 0.9075\n",
      "Time taken for 1 epoch 77.75313568115234 sec\n",
      "\n",
      "Epoch 21 Batch 0 Loss 0.7339\n",
      "Epoch 21 Batch 100 Loss 0.7134\n",
      "Epoch 21 Batch 200 Loss 0.6991\n",
      "Epoch 21 Batch 300 Loss 0.7901\n",
      "Epoch 21 Loss 0.7353\n",
      "Time taken for 1 epoch 77.34236359596252 sec\n",
      "\n",
      "Epoch 22 Batch 0 Loss 0.5628\n",
      "Epoch 22 Batch 100 Loss 0.6090\n",
      "Epoch 22 Batch 200 Loss 0.5323\n",
      "Epoch 22 Batch 300 Loss 0.6049\n",
      "Epoch 22 Loss 0.5986\n",
      "Time taken for 1 epoch 77.62829303741455 sec\n",
      "\n",
      "Epoch 23 Batch 0 Loss 0.3709\n",
      "Epoch 23 Batch 100 Loss 0.4177\n",
      "Epoch 23 Batch 200 Loss 0.4479\n",
      "Epoch 23 Batch 300 Loss 0.5346\n",
      "Epoch 23 Loss 0.4845\n",
      "Time taken for 1 epoch 77.2379195690155 sec\n",
      "\n",
      "Epoch 24 Batch 0 Loss 0.3650\n",
      "Epoch 24 Batch 100 Loss 0.3588\n",
      "Epoch 24 Batch 200 Loss 0.3809\n",
      "Epoch 24 Batch 300 Loss 0.4369\n",
      "Epoch 24 Loss 0.3931\n",
      "Time taken for 1 epoch 77.5285415649414 sec\n",
      "\n",
      "Epoch 25 Batch 0 Loss 0.2229\n",
      "Epoch 25 Batch 100 Loss 0.3232\n",
      "Epoch 25 Batch 200 Loss 0.3323\n",
      "Epoch 25 Batch 300 Loss 0.3032\n",
      "Epoch 25 Loss 0.3309\n",
      "Time taken for 1 epoch 77.32286405563354 sec\n",
      "\n",
      "Epoch 26 Batch 0 Loss 0.2267\n",
      "Epoch 26 Batch 100 Loss 0.2988\n",
      "Epoch 26 Batch 200 Loss 0.2760\n",
      "Epoch 26 Batch 300 Loss 0.2941\n",
      "Epoch 26 Loss 0.2550\n",
      "Time taken for 1 epoch 77.70974636077881 sec\n",
      "\n",
      "Epoch 27 Batch 0 Loss 0.1940\n",
      "Epoch 27 Batch 100 Loss 0.1779\n",
      "Epoch 27 Batch 200 Loss 0.1841\n",
      "Epoch 27 Batch 300 Loss 0.2209\n",
      "Epoch 27 Loss 0.1938\n",
      "Time taken for 1 epoch 77.33547902107239 sec\n",
      "\n",
      "Epoch 28 Batch 0 Loss 0.1283\n",
      "Epoch 28 Batch 100 Loss 0.1507\n",
      "Epoch 28 Batch 200 Loss 0.1381\n",
      "Epoch 28 Batch 300 Loss 0.1647\n",
      "Epoch 28 Loss 0.1563\n",
      "Time taken for 1 epoch 77.6881639957428 sec\n",
      "\n",
      "Epoch 29 Batch 0 Loss 0.1424\n",
      "Epoch 29 Batch 100 Loss 0.1255\n",
      "Epoch 29 Batch 200 Loss 0.1343\n",
      "Epoch 29 Batch 300 Loss 0.1359\n",
      "Epoch 29 Loss 0.1334\n",
      "Time taken for 1 epoch 77.41287612915039 sec\n",
      "\n",
      "Epoch 30 Batch 0 Loss 0.1233\n",
      "Epoch 30 Batch 100 Loss 0.1154\n",
      "Epoch 30 Batch 200 Loss 0.1459\n",
      "Epoch 30 Batch 300 Loss 0.1169\n",
      "Epoch 30 Loss 0.1264\n",
      "Time taken for 1 epoch 77.57709574699402 sec\n",
      "\n",
      "Epoch 31 Batch 0 Loss 0.0967\n",
      "Epoch 31 Batch 100 Loss 0.1151\n",
      "Epoch 31 Batch 200 Loss 0.0963\n",
      "Epoch 31 Batch 300 Loss 0.1321\n",
      "Epoch 31 Loss 0.1127\n",
      "Time taken for 1 epoch 77.40343856811523 sec\n",
      "\n",
      "Epoch 32 Batch 0 Loss 0.0855\n",
      "Epoch 32 Batch 100 Loss 0.1029\n",
      "Epoch 32 Batch 200 Loss 0.0945\n",
      "Epoch 32 Batch 300 Loss 0.0827\n",
      "Epoch 32 Loss 0.0987\n",
      "Time taken for 1 epoch 77.41362261772156 sec\n",
      "\n",
      "Epoch 33 Batch 0 Loss 0.0965\n",
      "Epoch 33 Batch 100 Loss 0.0709\n",
      "Epoch 33 Batch 200 Loss 0.1029\n",
      "Epoch 33 Batch 300 Loss 0.0926\n",
      "Epoch 33 Loss 0.0900\n",
      "Time taken for 1 epoch 77.37015199661255 sec\n",
      "\n",
      "Epoch 34 Batch 0 Loss 0.0775\n",
      "Epoch 34 Batch 100 Loss 0.0872\n",
      "Epoch 34 Batch 200 Loss 0.0974\n",
      "Epoch 34 Batch 300 Loss 0.0932\n",
      "Epoch 34 Loss 0.0916\n",
      "Time taken for 1 epoch 77.70663857460022 sec\n",
      "\n",
      "Epoch 35 Batch 0 Loss 0.0940\n",
      "Epoch 35 Batch 100 Loss 0.0878\n",
      "Epoch 35 Batch 200 Loss 0.0803\n",
      "Epoch 35 Batch 300 Loss 0.1149\n",
      "Epoch 35 Loss 0.0891\n",
      "Time taken for 1 epoch 77.42814183235168 sec\n",
      "\n",
      "Epoch 36 Batch 0 Loss 0.0690\n",
      "Epoch 36 Batch 100 Loss 0.0831\n",
      "Epoch 36 Batch 200 Loss 0.0790\n",
      "Epoch 36 Batch 300 Loss 0.0897\n",
      "Epoch 36 Loss 0.0833\n",
      "Time taken for 1 epoch 77.56310486793518 sec\n",
      "\n",
      "Epoch 37 Batch 0 Loss 0.0789\n",
      "Epoch 37 Batch 100 Loss 0.0781\n",
      "Epoch 37 Batch 200 Loss 0.0652\n",
      "Epoch 37 Batch 300 Loss 0.0985\n",
      "Epoch 37 Loss 0.0785\n",
      "Time taken for 1 epoch 77.39830994606018 sec\n",
      "\n",
      "Epoch 38 Batch 0 Loss 0.0672\n",
      "Epoch 38 Batch 100 Loss 0.0594\n",
      "Epoch 38 Batch 200 Loss 0.0656\n",
      "Epoch 38 Batch 300 Loss 0.0770\n",
      "Epoch 38 Loss 0.0724\n",
      "Time taken for 1 epoch 77.7284152507782 sec\n",
      "\n",
      "Epoch 39 Batch 0 Loss 0.0837\n",
      "Epoch 39 Batch 100 Loss 0.0599\n",
      "Epoch 39 Batch 200 Loss 0.0702\n",
      "Epoch 39 Batch 300 Loss 0.0795\n",
      "Epoch 39 Loss 0.0712\n",
      "Time taken for 1 epoch 77.39337944984436 sec\n",
      "\n",
      "Epoch 40 Batch 0 Loss 0.0413\n",
      "Epoch 40 Batch 100 Loss 0.0682\n",
      "Epoch 40 Batch 200 Loss 0.0839\n",
      "Epoch 40 Batch 300 Loss 0.0692\n",
      "Epoch 40 Loss 0.0728\n",
      "Time taken for 1 epoch 77.64335441589355 sec\n",
      "\n",
      "Epoch 41 Batch 0 Loss 0.0617\n",
      "Epoch 41 Batch 100 Loss 0.0652\n",
      "Epoch 41 Batch 200 Loss 0.0763\n",
      "Epoch 41 Batch 300 Loss 0.0680\n",
      "Epoch 41 Loss 0.0739\n",
      "Time taken for 1 epoch 77.33925437927246 sec\n",
      "\n",
      "Epoch 42 Batch 0 Loss 0.0583\n",
      "Epoch 42 Batch 100 Loss 0.0536\n",
      "Epoch 42 Batch 200 Loss 0.0635\n",
      "Epoch 42 Batch 300 Loss 0.0687\n",
      "Epoch 42 Loss 0.0699\n",
      "Time taken for 1 epoch 77.80223774909973 sec\n",
      "\n",
      "Epoch 43 Batch 0 Loss 0.0499\n",
      "Epoch 43 Batch 100 Loss 0.0480\n",
      "Epoch 43 Batch 200 Loss 0.0700\n",
      "Epoch 43 Batch 300 Loss 0.0893\n",
      "Epoch 43 Loss 0.0694\n",
      "Time taken for 1 epoch 77.40180945396423 sec\n",
      "\n",
      "Epoch 44 Batch 0 Loss 0.0437\n",
      "Epoch 44 Batch 100 Loss 0.0561\n",
      "Epoch 44 Batch 200 Loss 0.0549\n",
      "Epoch 44 Batch 300 Loss 0.0824\n",
      "Epoch 44 Loss 0.0678\n",
      "Time taken for 1 epoch 77.65470266342163 sec\n",
      "\n",
      "Epoch 45 Batch 0 Loss 0.0541\n",
      "Epoch 45 Batch 100 Loss 0.0648\n",
      "Epoch 45 Batch 200 Loss 0.0517\n",
      "Epoch 45 Batch 300 Loss 0.0627\n",
      "Epoch 45 Loss 0.0573\n",
      "Time taken for 1 epoch 77.37594032287598 sec\n",
      "\n",
      "Epoch 46 Batch 0 Loss 0.0356\n",
      "Epoch 46 Batch 100 Loss 0.0377\n",
      "Epoch 46 Batch 200 Loss 0.0472\n",
      "Epoch 46 Batch 300 Loss 0.0486\n",
      "Epoch 46 Loss 0.0543\n",
      "Time taken for 1 epoch 77.68243956565857 sec\n",
      "\n",
      "Epoch 47 Batch 0 Loss 0.0242\n",
      "Epoch 47 Batch 100 Loss 0.0520\n",
      "Epoch 47 Batch 200 Loss 0.0395\n",
      "Epoch 47 Batch 300 Loss 0.0694\n",
      "Epoch 47 Loss 0.0543\n",
      "Time taken for 1 epoch 77.17973065376282 sec\n",
      "\n",
      "Epoch 48 Batch 0 Loss 0.0469\n",
      "Epoch 48 Batch 100 Loss 0.0365\n",
      "Epoch 48 Batch 200 Loss 0.0594\n",
      "Epoch 48 Batch 300 Loss 0.0956\n",
      "Epoch 48 Loss 0.0642\n",
      "Time taken for 1 epoch 77.73812866210938 sec\n",
      "\n",
      "Epoch 49 Batch 0 Loss 0.0675\n",
      "Epoch 49 Batch 100 Loss 0.0759\n",
      "Epoch 49 Batch 200 Loss 0.0825\n",
      "Epoch 49 Batch 300 Loss 0.0557\n",
      "Epoch 49 Loss 0.0668\n",
      "Time taken for 1 epoch 77.37449097633362 sec\n",
      "\n",
      "Epoch 50 Batch 0 Loss 0.0731\n",
      "Epoch 50 Batch 100 Loss 0.0620\n",
      "Epoch 50 Batch 200 Loss 0.0615\n",
      "Epoch 50 Batch 300 Loss 0.0732\n",
      "Epoch 50 Loss 0.0590\n",
      "Time taken for 1 epoch 77.63827061653137 sec\n",
      "\n"
     ]
    }
   ],
   "source": [
    "EPOCHS = 50\n",
    "\n",
    "for epoch in range(EPOCHS):\n",
    "  start = time.time()\n",
    "\n",
    "  enc_hidden = encoder.initialize_hidden_state()\n",
    "  total_loss = 0\n",
    "\n",
    "  for (batch, (inp, targ)) in enumerate(dataset.take(steps_per_epoch)):\n",
    "#     print(inp[0], targ[0])\n",
    "#     convert(inp_lang, inp[0].numpy())\n",
    "#     convert(targ_lang, targ[0].numpy())\n",
    "    \n",
    "    batch_loss = train_step(inp, targ, enc_hidden)\n",
    "    total_loss += batch_loss\n",
    "\n",
    "    if batch % 100 == 0:\n",
    "      print('Epoch {} Batch {} Loss {:.4f}'.format(epoch + 1,\n",
    "                                                   batch,\n",
    "                                                   batch_loss.numpy()))\n",
    "  # saving (checkpoint) the model every 2 epochs\n",
    "  if (epoch + 1) % 2 == 0:\n",
    "    checkpoint.save(file_prefix = checkpoint_prefix)\n",
    "\n",
    "  print('Epoch {} Loss {:.4f}'.format(epoch + 1,\n",
    "                                      total_loss / steps_per_epoch))\n",
    "  print('Time taken for 1 epoch {} sec\\n'.format(time.time() - start))"
   ]
  },
  {
   "cell_type": "markdown",
   "metadata": {
    "id": "mU3Ce8M6I3rz"
   },
   "source": [
    "## Chat Bot\n",
    "\n",
    "* The evaluate function is similar to the training loop, except we don't use *teacher forcing* here. The input to the decoder at each time step is its previous predictions along with the hidden state and the encoder output.\n",
    "* Stop predicting when the model predicts the *end token*.\n",
    "* And store the *attention weights for every time step*.\n",
    "\n",
    "Note: The encoder output is calculated only once for one input."
   ]
  },
  {
   "cell_type": "code",
   "execution_count": 26,
   "metadata": {
    "id": "EbQpyYs13jF_"
   },
   "outputs": [],
   "source": [
    "def evaluate(sentence):\n",
    "  attention_plot = np.zeros((max_length_targ, max_length_inp))\n",
    "\n",
    "  sentence = preprocess_sentence(sentence)\n",
    "#   print(sentence)\n",
    "\n",
    "#   for i in sentence.split(' '):\n",
    "#     print(i)\n",
    "#     print(inp_lang.word_index[i],'--->',i)\n",
    "  sentence = sentence.replace('   ',' ')\n",
    "#   print(sentence)\n",
    "  inputs = [inp_lang.word_index[i] for i in sentence.split(' ')]\n",
    "  inputs = tf.keras.preprocessing.sequence.pad_sequences([inputs],\n",
    "                                                         maxlen=max_length_inp,\n",
    "                                                         padding='post')\n",
    "  inputs = tf.convert_to_tensor(inputs)\n",
    "\n",
    "  result = ''\n",
    "\n",
    "  hidden = [tf.zeros((1, units))]\n",
    "  enc_out, enc_hidden = encoder(inputs, hidden)\n",
    "\n",
    "  dec_hidden = enc_hidden\n",
    "  dec_input = tf.expand_dims([targ_lang.word_index['<start>']], 0)\n",
    "\n",
    "  for t in range(max_length_targ):\n",
    "    predictions, dec_hidden, attention_weights = decoder(dec_input,\n",
    "                                                         dec_hidden,\n",
    "                                                         enc_out)\n",
    "\n",
    "    # storing the attention weights to plot later on\n",
    "    attention_weights = tf.reshape(attention_weights, (-1, ))\n",
    "    attention_plot[t] = attention_weights.numpy()\n",
    "\n",
    "    predicted_id = tf.argmax(predictions[0]).numpy()\n",
    "\n",
    "    result += targ_lang.index_word[predicted_id] + ' '\n",
    "\n",
    "    if targ_lang.index_word[predicted_id] == '<end>':\n",
    "      return result, sentence, attention_plot\n",
    "\n",
    "    # the predicted ID is fed back into the model\n",
    "    dec_input = tf.expand_dims([predicted_id], 0)\n",
    "\n",
    "  return result, sentence, attention_plot"
   ]
  },
  {
   "cell_type": "code",
   "execution_count": 27,
   "metadata": {
    "id": "s5hQWlbN3jGF"
   },
   "outputs": [],
   "source": [
    "# function for plotting the attention weights\n",
    "def plot_attention(attention, sentence, predicted_sentence):\n",
    "  plt.rcParams['font.sans-serif'] = ['simhei'] \n",
    "  fig = plt.figure(figsize=(10,10))\n",
    "  ax = fig.add_subplot(1, 1, 1)\n",
    "  ax.matshow(attention, cmap='viridis')\n",
    "\n",
    "  fontdict = {'fontsize': 14}\n",
    "\n",
    "  ax.set_xticklabels([''] + sentence, fontdict=fontdict, rotation=90)\n",
    "  ax.set_yticklabels([''] + predicted_sentence, fontdict=fontdict)\n",
    "\n",
    "  ax.xaxis.set_major_locator(ticker.MultipleLocator(1))\n",
    "  ax.yaxis.set_major_locator(ticker.MultipleLocator(1))\n",
    "\n",
    "  plt.show()"
   ]
  },
  {
   "cell_type": "code",
   "execution_count": 28,
   "metadata": {
    "id": "sl9zUHzg3jGI"
   },
   "outputs": [],
   "source": [
    "def translate(sentence):\n",
    "  result, sentence, attention_plot = evaluate(sentence)\n",
    "\n",
    "  print('Input: %s' % (sentence))\n",
    "  print('Predicted translation: {}'.format(result))\n",
    "\n",
    "  attention_plot = attention_plot[:len(result.split(' ')), :len(sentence.split(' '))]\n",
    "  plot_attention(attention_plot, sentence.split(' '), result.split(' '))"
   ]
  },
  {
   "cell_type": "markdown",
   "metadata": {
    "id": "n250XbnjOaqP"
   },
   "source": [
    "## Restore the latest checkpoint and test"
   ]
  },
  {
   "cell_type": "code",
   "execution_count": 29,
   "metadata": {
    "id": "UJpT9D5_OgP6"
   },
   "outputs": [
    {
     "data": {
      "text/plain": [
       "<tensorflow.python.training.tracking.util.CheckpointLoadStatus at 0x7f08a84dd080>"
      ]
     },
     "execution_count": 29,
     "metadata": {},
     "output_type": "execute_result"
    }
   ],
   "source": [
    "# restoring the latest checkpoint in checkpoint_dir\n",
    "checkpoint.restore(tf.train.latest_checkpoint(checkpoint_dir))"
   ]
  },
  {
   "cell_type": "code",
   "execution_count": 30,
   "metadata": {
    "id": "WrAM0FDomq3E"
   },
   "outputs": [
    {
     "name": "stdout",
     "output_type": "stream",
     "text": [
      "Input: <start> 對 天 龍 人 來 說 宜 蘭 4 南 部 還 ４ 東 部 <end>\n",
      "Predicted translation: 他 國 事 務 . . <end> \n"
     ]
    },
    {
     "name": "stderr",
     "output_type": "stream",
     "text": [
      "/home/edward/.local/lib/python3.6/site-packages/ipykernel_launcher.py:10: UserWarning: FixedFormatter should only be used together with FixedLocator\n",
      "  # Remove the CWD from sys.path while we load stuff.\n",
      "/home/edward/.local/lib/python3.6/site-packages/ipykernel_launcher.py:11: UserWarning: FixedFormatter should only be used together with FixedLocator\n",
      "  # This is added back by InteractiveShellApp.init_path()\n"
     ]
    },
    {
     "data": {
      "image/png": "[encoded data removed]",
      "text/plain": [
       "<Figure size 720x720 with 1 Axes>"
      ]
     },
     "metadata": {
      "needs_background": "light"
     },
     "output_type": "display_data"
    },
    {
     "name": "stdout",
     "output_type": "stream",
     "text": [
      "Input: <start> 留 髮 不 留 頭 <end>\n",
      "Predicted translation: 還 好 我 早 就 禿 頭 了 <end> \n"
     ]
    },
    {
     "data": {
      "image/png": "[encoded data removed]",
      "text/plain": [
       "<Figure size 720x720 with 1 Axes>"
      ]
     },
     "metadata": {
      "needs_background": "light"
     },
     "output_type": "display_data"
    },
    {
     "name": "stdout",
     "output_type": "stream",
     "text": [
      "Input: <start> 為 什 麼 聖 結 石 會 被 酸 而 這 群 人 不 會 ？ <end>\n",
      "Predicted translation: 質 感 劇 本 成 員 都 差 很 多 好 嗎 不 要 拿 腎 結 石 來 污 辱 這 群 人 <end> \n"
     ]
    },
    {
     "data": {
      "image/png": "[encoded data removed]",
      "text/plain": [
       "<Figure size 720x720 with 1 Axes>"
      ]
     },
     "metadata": {
      "needs_background": "light"
     },
     "output_type": "display_data"
    },
    {
     "name": "stdout",
     "output_type": "stream",
     "text": [
      "Input: <start> 火 車 上 吃 g 排 很 不 道 德 嗎 ? <end>\n",
      "Predicted translation: 我 都 在 火 車 上 吃 著 火 鍋 唱 著 歌 <end> \n"
     ]
    },
    {
     "data": {
      "image/png": "[encoded data removed]",
      "text/plain": [
       "<Figure size 720x720 with 1 Axes>"
      ]
     },
     "metadata": {
      "needs_background": "light"
     },
     "output_type": "display_data"
    },
    {
     "name": "stdout",
     "output_type": "stream",
     "text": [
      "Input: <start> 臉 書 看 到 喜 歡 的 女 生 放 了 走 光 的 照 片 的 八 卦 <end>\n",
      "Predicted translation: 沒 圖 你 不 如 說 邱 淑 貞 曝 光 <end> \n"
     ]
    },
    {
     "data": {
      "image/png": "[encoded data removed]",
      "text/plain": [
       "<Figure size 720x720 with 1 Axes>"
      ]
     },
     "metadata": {
      "needs_background": "light"
     },
     "output_type": "display_data"
    }
   ],
   "source": [
    "translate(u'對天龍人來說宜蘭4南部還４東部')\n",
    "translate(u'留髮不留頭')\n",
    "translate(u'為什麼 聖結石 會被酸而 這群人 不會？')\n",
    "translate(u'火車上吃G排很不道德嗎?')\n",
    "# wrong translation\n",
    "translate(u'臉書看到喜歡的女生放了走光的照片的八卦')"
   ]
  },
  {
   "cell_type": "markdown",
   "metadata": {},
   "source": [
    "## TEST"
   ]
  },
  {
   "cell_type": "code",
   "execution_count": 31,
   "metadata": {},
   "outputs": [],
   "source": [
    "def test_step(inp, targ, enc_hidden):\n",
    "    loss = 0\n",
    "    \n",
    "  \n",
    "    enc_output, enc_hidden = encoder(inp, enc_hidden)\n",
    "\n",
    "    dec_hidden = enc_hidden\n",
    "\n",
    "    dec_input = tf.expand_dims([targ_lang.word_index['<start>']] * BATCH_SIZE, 1)\n",
    "\n",
    "    # Teacher forcing - feeding the target as the next input\n",
    "    for t in range(1, targ.shape[1]):\n",
    "      # passing enc_output to the decoder\n",
    "      predictions, dec_hidden, _ = decoder(dec_input, dec_hidden, enc_output)\n",
    "\n",
    "      loss += loss_function(targ[:, t], predictions)\n",
    "\n",
    "      # using teacher forcing\n",
    "      dec_input = tf.expand_dims(targ[:, t], 1)\n",
    "\n",
    "    batch_loss = (loss / int(targ.shape[1]))\n",
    "\n",
    "    return batch_loss"
   ]
  },
  {
   "cell_type": "code",
   "execution_count": 32,
   "metadata": {},
   "outputs": [
    {
     "name": "stdout",
     "output_type": "stream",
     "text": [
      "Batch 0 Loss 6.5497\n",
      "Test Loss 6.0507\n",
      "Time taken for testing set 11.820934772491455 sec\n",
      "\n"
     ]
    }
   ],
   "source": [
    "BUFFER_SIZE_VAL = len(input_tensor_val)\n",
    "steps_per_epoch = len(input_tensor_val)//BATCH_SIZE\n",
    "\n",
    "dataset_val = tf.data.Dataset.from_tensor_slices((input_tensor_val, target_tensor_val)).shuffle(BUFFER_SIZE_VAL)\n",
    "dataset_val = dataset_val.batch(BATCH_SIZE, drop_remainder=True)\n",
    "\n",
    "start = time.time()\n",
    "\n",
    "enc_hidden = encoder.initialize_hidden_state()\n",
    "total_loss = 0\n",
    "\n",
    "for (batch, (inp, targ)) in enumerate(dataset_val.take(steps_per_epoch)):\n",
    "#     print(inp[0], targ[0])\n",
    "#     convert(inp_lang, inp[0].numpy())\n",
    "#     convert(targ_lang, targ[0].numpy())\n",
    "\n",
    "    batch_loss = test_step(inp, targ, enc_hidden)\n",
    "    total_loss += batch_loss\n",
    "\n",
    "    if batch % 100 == 0:\n",
    "      print('Batch {} Loss {:.4f}'.format(batch, batch_loss.numpy()))\n",
    "\n",
    "print('Test Loss {:.4f}'.format(total_loss / steps_per_epoch))\n",
    "print('Time taken for testing set {} sec\\n'.format(time.time() - start))"
   ]
  },
  {
   "cell_type": "markdown",
   "metadata": {
    "id": "RTe5P5ioMJwN"
   },
   "source": [
    "## Next steps\n",
    "\n",
    "* [Download a different dataset](http://www.manythings.org/anki/) to experiment with translations, for example, English to German, or English to French.\n",
    "* Experiment with training on a larger dataset, or using more epochs\n"
   ]
  },
  {
   "cell_type": "code",
   "execution_count": 33,
   "metadata": {},
   "outputs": [],
   "source": [
    "# #coding:utf-8\n",
    "# \"\"\"a demo of matplotlib\"\"\"\n",
    "# import matplotlib as mpl\n",
    "# from matplotlib import pyplot as plt\n",
    "# mpl.rcParams[u'font.sans-serif'] = ['simhei']\n",
    "# mpl.rcParams['axes.unicode_minus'] = False\n",
    "# years = [1950, 1960, 1970, 1980, 1990, 2000, 2010]\n",
    "# gdp = [300.2, 543.3, 1075.9, 2862.5, 5979.6, 10289.7, 14958.3]\n",
    "# #建立一副線圖,x軸是年份,y軸是gdp\n",
    "# plt.plot(years, gdp, color='green', marker='o', linestyle='solid')\n",
    "# #新增一個標題\n",
    "# plt.title(u'名義GDP')\n",
    "# #給y軸加標記\n",
    "# plt.ylabel(u'十億美元')\n",
    "# plt.show()"
   ]
  },
  {
   "cell_type": "code",
   "execution_count": 35,
   "metadata": {},
   "outputs": [
    {
     "name": "stdout",
     "output_type": "stream",
     "text": [
      "<class '__main__.Decoder'> <class '__main__.Encoder'>\n",
      "6790 6770\n",
      "6000\n"
     ]
    }
   ],
   "source": [
    "print(type(decoder),type(encoder))\n",
    "print(vocab_inp_size,vocab_tar_size)\n",
    "print(BUFFER_SIZE_VAL)"
   ]
  },
  {
   "cell_type": "code",
   "execution_count": 37,
   "metadata": {},
   "outputs": [],
   "source": [
    "decoder.save_weights('./decoder_small.h5')\n",
    "encoder.save_weights('./encoder_small.h5')"
   ]
  },
  {
   "cell_type": "code",
   "execution_count": null,
   "metadata": {},
   "outputs": [],
   "source": []
  }
 ],
 "metadata": {
  "accelerator": "GPU",
  "colab": {
   "collapsed_sections": [],
   "name": "nmt_with_attention.ipynb",
   "toc_visible": true
  },
  "kernelspec": {
   "display_name": "Python 3",
   "language": "python",
   "name": "python3"
  },
  "language_info": {
   "codemirror_mode": {
    "name": "ipython",
    "version": 3
   },
   "file_extension": ".py",
   "mimetype": "text/x-python",
   "name": "python",
   "nbconvert_exporter": "python",
   "pygments_lexer": "ipython3",
   "version": "3.6.9"
  }
 },
 "nbformat": 4,
 "nbformat_minor": 4
}
